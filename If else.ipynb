{
 "cells": [
  {
   "cell_type": "code",
   "execution_count": 8,
   "id": "f9a44a93",
   "metadata": {
    "scrolled": true
   },
   "outputs": [
    {
     "name": "stdout",
     "output_type": "stream",
     "text": [
      "Nhập số cần kiểm tra chẵn lẻ: 3\n",
      "Lẻ\n"
     ]
    }
   ],
   "source": [
    "#Luyện tập với toán tử ba ngôi\n",
    "num = int(input('Nhập số cần kiểm tra chẵn lẻ: '))\n",
    "r = \"Chẵn\" if num % 2 == 0 else \"Lẻ\"\n",
    "print(r)"
   ]
  },
  {
   "cell_type": "code",
   "execution_count": 9,
   "id": "d99d6e0d",
   "metadata": {},
   "outputs": [
    {
     "name": "stdout",
     "output_type": "stream",
     "text": [
      "Nhập số cần kiểm tra chẵn lẻ: 1243\n",
      "Số 1243 là số lẻ\n"
     ]
    }
   ],
   "source": [
    "#Kiểm tra số chẵn lẻ\n",
    "num = int(input('Nhập số cần kiểm tra chẵn lẻ: '))\n",
    "if (num%2==0):\n",
    "    print(f\"Số {num} là số chẵn\")\n",
    "else:\n",
    "    print(f\"Số {num} là số lẻ\")"
   ]
  },
  {
   "cell_type": "code",
   "execution_count": 12,
   "id": "ee77c678",
   "metadata": {},
   "outputs": [
    {
     "name": "stdout",
     "output_type": "stream",
     "text": [
      "Hãy nhập 1 số (từ 1 đến 7): 8\n",
      "Lỗi, số ngoài phạm vi\n"
     ]
    }
   ],
   "source": [
    "#Hiển thị ngày trong tuần\n",
    "num = int(input(\"Hãy nhập 1 số (từ 1 đến 7): \"))\n",
    "if num == 1:\n",
    "    print(\"Monday\")\n",
    "elif num == 2:\n",
    "    print(\"Tuesday\")\n",
    "elif num == 3:\n",
    "    print(\"Wednesday\")\n",
    "elif num == 4:\n",
    "    print(\"Thursday\")\n",
    "elif num == 5:\n",
    "    print(\"Friday\")\n",
    "elif num == 6:\n",
    "    print(\"Saturday\")\n",
    "elif num == 7:\n",
    "    print(\"Sunday\")\n",
    "else:\n",
    "    print(\"Lỗi, số ngoài phạm vi\")"
   ]
  },
  {
   "cell_type": "code",
   "execution_count": 17,
   "id": "56649d06",
   "metadata": {},
   "outputs": [
    {
     "name": "stdout",
     "output_type": "stream",
     "text": [
      "Hãy nhập số tiền bạn đã mua tại cửa hàng: 90\n",
      "Total:  75\n"
     ]
    }
   ],
   "source": [
    "# Hiển thị thông tin đơn hàng\n",
    "m = int(input(\"Hãy nhập số tiền bạn đã mua tại cửa hàng: \"))\n",
    "if m >= 150:\n",
    "    print(\"Total: \", m - 50)\n",
    "elif m >= 100:\n",
    "    print(\"Total: \", m - 25)\n",
    "elif m >= 75:\n",
    "    print(\"Total: \", m - 15)\n",
    "else:\n",
    "    print(\"Total: \", m)"
   ]
  },
  {
   "cell_type": "code",
   "execution_count": 20,
   "id": "60ca0cbb",
   "metadata": {},
   "outputs": [
    {
     "name": "stdout",
     "output_type": "stream",
     "text": [
      "Enter your weight(kg): 68\n",
      "Enter your height(m): 1.65\n",
      "Bình thường\n"
     ]
    }
   ],
   "source": [
    "#Tính chỉ số cân nặng của cơ thể\n",
    "w = float(input(\"Enter your weight(kg): \"))\n",
    "h = float(input(\"Enter your height(m): \"))\n",
    "BMI = w/(h**2)\n",
    "if BMI < 16: \n",
    "    print('Gầy cấp độ III')\n",
    "elif 16 <= BMI < 17:\n",
    "    print('Gầy cấp độ II')\n",
    "elif 17<= BMI < 18.5: \n",
    "    print('Gầy cấp độ I')\n",
    "elif 18.5 <= BMI < 25: \n",
    "    print('Bình thường')\n",
    "elif 25 <= BMI < 30: \n",
    "    print('Thừa cân')\n",
    "elif 30 <= BMI < 35:\n",
    "    print('Béo phì cấp độ I')\n",
    "elif 35 <= BMI < 40:\n",
    "    print('Béo phì cấp độ II')\n",
    "else: \n",
    "    print('Béo phì cấp độ III')"
   ]
  },
  {
   "cell_type": "code",
   "execution_count": null,
   "id": "64981f95",
   "metadata": {},
   "outputs": [],
   "source": []
  }
 ],
 "metadata": {
  "kernelspec": {
   "display_name": "Python 3 (ipykernel)",
   "language": "python",
   "name": "python3"
  },
  "language_info": {
   "codemirror_mode": {
    "name": "ipython",
    "version": 3
   },
   "file_extension": ".py",
   "mimetype": "text/x-python",
   "name": "python",
   "nbconvert_exporter": "python",
   "pygments_lexer": "ipython3",
   "version": "3.9.13"
  }
 },
 "nbformat": 4,
 "nbformat_minor": 5
}
